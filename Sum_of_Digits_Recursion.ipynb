{
  "nbformat": 4,
  "nbformat_minor": 0,
  "metadata": {
    "colab": {
      "name": "Sum-of-Digits-Recursion.ipynb",
      "provenance": [],
      "authorship_tag": "ABX9TyOcApzcEm3Iw16djeKd60AK",
      "include_colab_link": true
    },
    "kernelspec": {
      "name": "python3",
      "display_name": "Python 3"
    },
    "language_info": {
      "name": "python"
    }
  },
  "cells": [
    {
      "cell_type": "markdown",
      "metadata": {
        "id": "view-in-github",
        "colab_type": "text"
      },
      "source": [
        "<a href=\"https://colab.research.google.com/github/aashnijoshi/Sum-of-Digits-Recursion/blob/main/Sum_of_Digits_Recursion.ipynb\" target=\"_parent\"><img src=\"https://colab.research.google.com/assets/colab-badge.svg\" alt=\"Open In Colab\"/></a>"
      ]
    },
    {
      "cell_type": "code",
      "execution_count": null,
      "metadata": {
        "id": "35mhvjkE5mrz"
      },
      "outputs": [],
      "source": [
        "#Calculating sum of digits of a given number using Recursion\n",
        "\n",
        "#Inputting the number\n",
        "print(\"Please enter a number \")\n",
        "n=int(input())\n",
        "\n",
        "#'s' will store the sum of the digits\n",
        "s=0\n",
        "\n",
        "#Defining the function\n",
        "def sumofdigs(n):\n",
        "\n",
        "    global s\n",
        "\n",
        "    if n>0:\n",
        "        d=n%10      #'d' stores every individual digit of the number\n",
        "        s+=d        #Incrementing 's' by 'd'\n",
        "        n=int(n/10)\n",
        "        sumofdigs(n)  #Calling the function again\n",
        "       \n",
        "sumofdigs(n)  \n",
        "\n",
        "#Printing final s value\n",
        "print(\"SUM OF THE GIVEN NUMBER IS \",s)      \n",
        "        \n",
        "       \n",
        "    "
      ]
    }
  ]
}